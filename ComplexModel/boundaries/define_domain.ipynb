{
 "cells": [
  {
   "cell_type": "code",
<<<<<<< HEAD
   "execution_count": 1,
   "metadata": {
    "collapsed": false
   },
=======
   "execution_count": null,
   "metadata": {},
>>>>>>> 766b4565130d0d3deab99722fff93f4e30ef780f
   "outputs": [],
   "source": [
    "import numpy as np\n",
    "import matplotlib.pyplot as plt\n",
    "%matplotlib notebook"
   ]
  },
  {
   "cell_type": "code",
<<<<<<< HEAD
   "execution_count": 2,
   "metadata": {
    "collapsed": true
   },
=======
   "execution_count": null,
   "metadata": {},
>>>>>>> 766b4565130d0d3deab99722fff93f4e30ef780f
   "outputs": [],
   "source": [
    "###############################################################################\n",
    "#                                                                             #\n",
    "# Copyright (C) 2010 Edward d'Auvergne                                        #\n",
    "#                                                                             #\n",
    "# This file is part of the program relax.                                     #\n",
    "#                                                                             #\n",
    "# relax is free software; you can redistribute it and/or modify               #\n",
    "# it under the terms of the GNU General Public License as published by        #\n",
    "# the Free Software Foundation; either version 2 of the License, or           #\n",
    "# (at your option) any later version.                                         #\n",
    "#                                                                             #\n",
    "# relax is distributed in the hope that it will be useful;                    #\n",
    "# but WITHOUT ANY WARRANTY; without even the implied warranty of              #\n",
    "# MERCHANTABILITY or FITNESS FOR A PARTICULAR PURPOSE.  See the               #\n",
    "# GNU General Public License for more details.                                #\n",
    "#                                                                             #\n",
    "# You should have received a copy of the GNU General Public License           #\n",
    "# along with relax; if not, write to the Free Software                        #\n",
    "# Foundation, Inc., 59 Temple Place, Suite 330, Boston, MA  02111-1307  USA   #\n",
    "#                                                                             #\n",
    "###############################################################################\n",
    "\n",
    "# Module docstring.\n",
    "\"\"\"Module for transforming between different coordinate systems.\"\"\"\n",
    "\n",
    "# Python module imports.\n",
    "from math import acos, atan2, cos, sin\n",
    "from numpy import array, float64, zeros\n",
    "from numpy.linalg import norm\n",
    "\n",
    "\n",
    "def cartesian_to_spherical(vector):\n",
    "    \"\"\"Convert the Cartesian vector [x, y, z] to spherical coordinates [r, theta, phi].\n",
    "\n",
    "    The parameter r is the radial distance, theta is the polar angle, and phi is the azimuth.\n",
    "\n",
    "\n",
    "    @param vector:  The Cartesian vector [x, y, z].\n",
    "    @type vector:   numpy rank-1, 3D array\n",
    "    @return:        The spherical coordinate vector [r, theta, phi].\n",
    "    @rtype:         numpy rank-1, 3D array\n",
    "    \"\"\"\n",
    "\n",
    "    # The radial distance.\n",
    "    r = norm(vector)\n",
    "\n",
    "    # Unit vector.\n",
    "    unit = vector / r\n",
    "\n",
    "    # The polar angle.\n",
    "    theta = acos(unit[2])\n",
    "\n",
    "    # The azimuth.\n",
    "    phi = atan2(unit[1], unit[0])\n",
    "\n",
    "    # Return the spherical coordinate vector.\n",
    "    return array([r, theta, phi], float64)\n",
    "\n",
    "\n",
    "def spherical_to_cartesian(spherical_vect, cart_vect):\n",
    "    \"\"\"Convert the spherical coordinate vector [r, theta, phi] to the Cartesian vector [x, y, z].\n",
    "\n",
    "    The parameter r is the radial distance, theta is the polar angle, and phi is the azimuth.\n",
    "\n",
    "\n",
    "    @param spherical_vect:  The spherical coordinate vector [r, theta, phi].\n",
    "    @type spherical_vect:   3D array or list\n",
    "    @param cart_vect:       The Cartesian vector [x, y, z].\n",
    "    @type cart_vect:        3D array or list\n",
    "    \"\"\"\n",
    "\n",
    "    # Trig alias.\n",
    "    sin_theta = sin(spherical_vect[1])\n",
    "\n",
    "    # The vector.\n",
    "    cart_vect[0] = spherical_vect[0] * cos(spherical_vect[2]) * sin_theta\n",
    "    cart_vect[1] = spherical_vect[0] * sin(spherical_vect[2]) * sin_theta\n",
    "    cart_vect[2] = spherical_vect[0] * cos(spherical_vect[1])"
   ]
  },
  {
   "cell_type": "markdown",
   "metadata": {},
   "source": [
    "# Define an equator-centerd domain"
   ]
  },
  {
   "cell_type": "code",
<<<<<<< HEAD
   "execution_count": 3,
   "metadata": {
    "collapsed": true
   },
=======
   "execution_count": null,
   "metadata": {},
>>>>>>> 766b4565130d0d3deab99722fff93f4e30ef780f
   "outputs": [],
   "source": [
    "lat_min = -20.0\n",
    "lat_max = 20.0\n",
    "lon_min = 109.0\n",
    "lon_max = 159.0\n",
    "nlat = 41\n",
    "nlon = 51\n",
    "deg2rad = np.pi/180.0\n",
    "rad2deg = 1.0/deg2rad"
   ]
  },
  {
   "cell_type": "code",
<<<<<<< HEAD
   "execution_count": 4,
   "metadata": {
    "collapsed": true
   },
=======
   "execution_count": null,
   "metadata": {},
>>>>>>> 766b4565130d0d3deab99722fff93f4e30ef780f
   "outputs": [],
   "source": [
    "lati = np.linspace(lat_min, lat_max, nlat)\n",
    "loni = np.linspace(lon_min, lon_max, nlon)"
   ]
  },
  {
   "cell_type": "code",
<<<<<<< HEAD
   "execution_count": 5,
   "metadata": {
    "collapsed": false
   },
=======
   "execution_count": null,
   "metadata": {},
>>>>>>> 766b4565130d0d3deab99722fff93f4e30ef780f
   "outputs": [],
   "source": [
    "domain = np.zeros((nlon*nlat,3))\n",
    "for j in range(nlat):\n",
    "    for i in range(nlon):\n",
    "        n = i + nlon*j\n",
    "        spherical_vect = [1.0, deg2rad*(90.0-lati[j]), deg2rad*loni[i]]\n",
    "        spherical_to_cartesian(spherical_vect, domain[n,:])"
   ]
  },
  {
   "cell_type": "markdown",
   "metadata": {},
   "source": [
    "From http://stackoverflow.com/a/25709323,\n",
    "\n",
    "    let a be the unit vector along axis, i.e. a = axis/norm(axis)\n",
    "    and A = I × a be the skew-symmetric matrix associated to a, i.e. the cross product of the identity matrix with a\n",
    "    then M = exp(θ A) is the rotation matrix.\n",
    "    \n",
    "Example:\n",
    "```Python\n",
    "from numpy import cross, eye, dot\n",
    "from scipy.linalg import expm3, norm\n",
    "\n",
    "def M(axis, theta):\n",
    "    return expm3(cross(eye(3), axis/norm(axis)*theta))\n",
    "\n",
    "v, axis, theta = [3,5,0], [4,4,1], 1.2\n",
    "M0 = M(axis, theta)\n",
    "\n",
    "print(dot(M0,v))\n",
    "# [ 2.74911638  4.77180932  1.91629719]\n",
    "```"
   ]
  },
  {
   "cell_type": "code",
<<<<<<< HEAD
   "execution_count": 9,
   "metadata": {
    "collapsed": true
   },
=======
   "execution_count": null,
   "metadata": {},
>>>>>>> 766b4565130d0d3deab99722fff93f4e30ef780f
   "outputs": [],
   "source": [
    "from numpy import cross, eye, dot\n",
    "from scipy.linalg import expm, norm\n",
<<<<<<< HEAD
    "# from scipy.linalg import expm3, norm\n",
    "\n",
    "def M(axis, theta):\n",
    "    return expm(theta*cross(eye(3),axis/norm(axis)))\n",
    "    # return expm3(theta*cross(eye(3),axis/norm(axis)))"
=======
    "\n",
    "def M(axis, theta):\n",
    "    return expm(theta*cross(eye(3),axis/norm(axis)))"
>>>>>>> 766b4565130d0d3deab99722fff93f4e30ef780f
   ]
  },
  {
   "cell_type": "code",
<<<<<<< HEAD
   "execution_count": 10,
   "metadata": {
    "collapsed": false
   },
=======
   "execution_count": null,
   "metadata": {},
>>>>>>> 766b4565130d0d3deab99722fff93f4e30ef780f
   "outputs": [],
   "source": [
    "# The rotation axis is pointing to longitude of (136-90) deg and latitude of 0 deg.\n",
    "# The dessired rotation is +36 deg around this axis.\n",
    "\n",
    "# 1. Compute the x, y, z coordinates of the rotation axis.\n",
    "axis_latlon = np.array([1.0, deg2rad*90.0, deg2rad*(0.5*(lon_max+lon_min)-90.0)])\n",
    "axis = np.array([0.0, 0.0, 0.0])\n",
    "spherical_to_cartesian(axis_latlon, axis)\n",
    "\n",
    "# 2. Define the rotation matrix\n",
    "theta = deg2rad*36.0\n",
    "M0 = M(axis, theta)\n",
    "\n",
    "# 3. Rotate the domain\n",
    "domain_rot = np.zeros((nlon*nlat,3))\n",
    "for j in range(nlat):\n",
    "    for i in range(nlon):\n",
    "        n = i + nlon*j\n",
    "        domain_rot[n,:] = dot(M0,domain[n,:])\n",
    "\n",
    "# 4. Convert the x, y, z to lon-lat\n",
    "domain_rot_latlon = np.zeros((nlon*nlat,2))\n",
    "for j in range(nlat):\n",
    "    for i in range(nlon):\n",
    "        n = i + nlon*j\n",
    "        r, theta, phi = cartesian_to_spherical(domain_rot[n,:])\n",
    "        # latitude\n",
    "        domain_rot_latlon[n,:] = [90.0-rad2deg*theta, rad2deg*phi]"
   ]
  },
  {
   "cell_type": "code",
<<<<<<< HEAD
   "execution_count": 11,
   "metadata": {
    "collapsed": true
   },
   "outputs": [
    {
     "ename": "TypeError",
     "evalue": "unsupported operand type(s) for >>: 'builtin_function_or_method' and '_io.TextIOWrapper'. Did you mean \"print(<message>, file=<output_stream>)\"?",
     "output_type": "error",
     "traceback": [
      "\u001b[0;31m---------------------------------------------------------------------------\u001b[0m",
      "\u001b[0;31mTypeError\u001b[0m                                 Traceback (most recent call last)",
      "Cell \u001b[0;32mIn[11], line 6\u001b[0m\n\u001b[1;32m      4\u001b[0m     \u001b[38;5;28;01mfor\u001b[39;00m i \u001b[38;5;129;01min\u001b[39;00m \u001b[38;5;28mrange\u001b[39m(nlon):\n\u001b[1;32m      5\u001b[0m         n \u001b[38;5;241m=\u001b[39m i \u001b[38;5;241m+\u001b[39m nlon\u001b[38;5;241m*\u001b[39mj\n\u001b[0;32m----> 6\u001b[0m         \u001b[38;5;28;43mprint\u001b[39;49m\u001b[43m \u001b[49m\u001b[38;5;241;43m>>\u001b[39;49m\u001b[43m \u001b[49m\u001b[43mfo1\u001b[49m, \u001b[38;5;124m\"\u001b[39m\u001b[38;5;132;01m%g\u001b[39;00m\u001b[38;5;124m \u001b[39m\u001b[38;5;132;01m%g\u001b[39;00m\u001b[38;5;124m\"\u001b[39m \u001b[38;5;241m%\u001b[39m (loni[i],lati[j])\n\u001b[1;32m      7\u001b[0m         \u001b[38;5;28mprint\u001b[39m \u001b[38;5;241m>>\u001b[39m fo2, \u001b[38;5;124m\"\u001b[39m\u001b[38;5;132;01m%g\u001b[39;00m\u001b[38;5;124m \u001b[39m\u001b[38;5;132;01m%g\u001b[39;00m\u001b[38;5;124m\"\u001b[39m \u001b[38;5;241m%\u001b[39m (domain_rot_latlon[n,\u001b[38;5;241m1\u001b[39m], domain_rot_latlon[n,\u001b[38;5;241m0\u001b[39m])\n\u001b[1;32m      8\u001b[0m fo1\u001b[38;5;241m.\u001b[39mclose()\n",
      "\u001b[0;31mTypeError\u001b[0m: unsupported operand type(s) for >>: 'builtin_function_or_method' and '_io.TextIOWrapper'. Did you mean \"print(<message>, file=<output_stream>)\"?"
     ]
    }
   ],
=======
   "execution_count": null,
   "metadata": {},
   "outputs": [],
>>>>>>> 766b4565130d0d3deab99722fff93f4e30ef780f
   "source": [
    "with open('domain.latlon','w') as fo1:\n",
    "    with open('domain_rot.latlon','w') as fo2:\n",
    "        for j in range(nlat):\n",
    "            for i in range(nlon):\n",
    "                n = i + nlon*j\n",
    "                print(\"{0:g} {1:g}\".format(loni[i],lati[j]), file=fo1)\n",
    "                print(\"{0:g} {1:g}\".format(domain_rot_latlon[n,1], domain_rot_latlon[n,0]), file=fo2)\n"
   ]
  },
  {
   "cell_type": "markdown",
   "metadata": {
    "collapsed": true
   },
   "source": [
    "## Epicenter rotation"
   ]
  },
  {
   "cell_type": "code",
<<<<<<< HEAD
   "execution_count": 14,
   "metadata": {
    "collapsed": false
   },
   "outputs": [
    {
     "name": "stdout",
     "output_type": "stream",
     "text": [
      "[2.4194665515767184, 140.9675615279824]\n"
     ]
    }
   ],
=======
   "execution_count": null,
   "metadata": {},
   "outputs": [],
>>>>>>> 766b4565130d0d3deab99722fff93f4e30ef780f
   "source": [
    "# 0. Epicenter of the 2011 Tohoku earthquake\n",
    "epi_lon = 142.86\n",
    "epi_lat = 38.103\n",
    "\n",
    "# 1. Compute the x, y, z coordinates of the epicenter\n",
    "epi_latlon = np.array([1.0, deg2rad*(90.0-epi_lat), deg2rad*epi_lon])\n",
    "epi_xyz    = np.array([0.0, 0.0, 0.0])\n",
    "spherical_to_cartesian(epi_latlon, epi_xyz)\n",
    "\n",
    "# 2. Define the rotation matrix\n",
    "theta = deg2rad*-36.0\n",
    "M1 = M(axis, theta)\n",
    "\n",
    "# 3. Rotate the epicenter\n",
    "epi_rot_xyz = dot(M1,epi_xyz)\n",
    "\n",
    "# 4. Convert the x, y, z to lon-lat\n",
    "r, theta, phi = cartesian_to_spherical(epi_rot_xyz)\n",
    "epi_rot_latlon = [90.0-rad2deg*theta, rad2deg*phi]\n",
    "print(epi_rot_latlon)"
<<<<<<< HEAD
   ]
  },
  {
   "cell_type": "markdown",
   "metadata": {},
   "source": [
    "### 1944 Tonankai Eq (Ichinose et al., JGR, 2003)"
   ]
  },
  {
   "cell_type": "code",
   "execution_count": 15,
   "metadata": {},
   "outputs": [
    {
     "name": "stdout",
     "output_type": "stream",
     "text": [
      "[-2.2136089223093194, 135.63041901634824]\n"
     ]
    }
   ],
   "source": [
    "# 0. Epicenter of the 1944 Tonankai earthquake\n",
    "epi_lon = 135.96\n",
    "epi_lat = 33.77\n",
    "\n",
    "# 1. Compute the x, y, z coordinates of the epicenter\n",
    "epi_latlon = np.array([1.0, deg2rad*(90.0-epi_lat), deg2rad*epi_lon])\n",
    "epi_xyz    = np.array([0.0, 0.0, 0.0])\n",
    "spherical_to_cartesian(epi_latlon, epi_xyz)\n",
    "\n",
    "# 2. Define the rotation matrix\n",
    "theta = deg2rad*-36.0\n",
    "M1 = M(axis, theta)\n",
    "\n",
    "# 3. Rotate the epicenter\n",
    "epi_rot_xyz = dot(M1,epi_xyz)\n",
    "\n",
    "# 4. Convert the x, y, z to lon-lat\n",
    "r, theta, phi = cartesian_to_spherical(epi_rot_xyz)\n",
    "epi_rot_latlon = [90.0-rad2deg*theta, rad2deg*phi]\n",
    "print(epi_rot_latlon)"
   ]
  },
  {
   "cell_type": "markdown",
   "metadata": {},
   "source": [
    "```SHELL\n",
    "> echo '135.63 -2.21' | gmt mapproject -JY134/0/5000 -R109/159/-20/20 | awk '{print $1-500,$2-200}'\n",
    "2163 1528.06\n",
    "```"
   ]
  },
  {
   "cell_type": "markdown",
   "metadata": {},
   "source": [
    "### 1968 Hyuga-nada Eq (Yagi et al., Journal of the Seismological Society of Japan, 1998)"
   ]
  },
  {
   "cell_type": "code",
   "execution_count": 16,
   "metadata": {},
   "outputs": [
    {
     "name": "stdout",
     "output_type": "stream",
     "text": [
      "[-3.710609739070918, 132.75461872230917]\n"
     ]
    }
   ],
   "source": [
    "# 0. Epicenter of the 1968 Hyuga-nada earthquake\n",
    "epi_lon = 132.53\n",
    "epi_lat = 32.28\n",
    "\n",
    "# 1. Compute the x, y, z coordinates of the epicenter\n",
    "epi_latlon = np.array([1.0, deg2rad*(90.0-epi_lat), deg2rad*epi_lon])\n",
    "epi_xyz    = np.array([0.0, 0.0, 0.0])\n",
    "spherical_to_cartesian(epi_latlon, epi_xyz)\n",
    "\n",
    "# 2. Define the rotation matrix\n",
    "theta = deg2rad*-36.0\n",
    "M1 = M(axis, theta)\n",
    "\n",
    "# 3. Rotate the epicenter\n",
    "epi_rot_xyz = dot(M1,epi_xyz)\n",
    "\n",
    "# 4. Convert the x, y, z to lon-lat\n",
    "r, theta, phi = cartesian_to_spherical(epi_rot_xyz)\n",
    "epi_rot_latlon = [90.0-rad2deg*theta, rad2deg*phi]\n",
    "print(epi_rot_latlon)"
   ]
  },
  {
   "cell_type": "markdown",
   "metadata": {},
   "source": [
    "```SHELL\n",
    "echo '132.75 -3.71' | gmt mapproject -JY134/0/50\n",
    "00 -R109/159/-20/20 | awk '{print $1-500,$2-200}'\n",
    "1875 1379.26\n",
    "```"
   ]
  },
  {
   "cell_type": "markdown",
   "metadata": {},
   "source": [
    "### 1946 Nankai Eq (Baba et al., PEPI, 2002)"
   ]
  },
  {
   "cell_type": "code",
   "execution_count": 17,
   "metadata": {},
   "outputs": [
    {
     "name": "stdout",
     "output_type": "stream",
     "text": [
      "[-2.958699639061166, 135.359943520855]\n"
     ]
    }
   ],
   "source": [
    "# 0. Epicenter of the 1946 Nankai earthquake\n",
    "epi_lon = 135.62\n",
    "epi_lat = 33.03\n",
    "\n",
    "# 1. Compute the x, y, z coordinates of the epicenter\n",
    "epi_latlon = np.array([1.0, deg2rad*(90.0-epi_lat), deg2rad*epi_lon])\n",
    "epi_xyz    = np.array([0.0, 0.0, 0.0])\n",
    "spherical_to_cartesian(epi_latlon, epi_xyz)\n",
    "\n",
    "# 2. Define the rotation matrix\n",
    "theta = deg2rad*-36.0\n",
    "M1 = M(axis, theta)\n",
    "\n",
    "# 3. Rotate the epicenter\n",
    "epi_rot_xyz = dot(M1,epi_xyz)\n",
    "\n",
    "# 4. Convert the x, y, z to lon-lat\n",
    "r, theta, phi = cartesian_to_spherical(epi_rot_xyz)\n",
    "epi_rot_latlon = [90.0-rad2deg*theta, rad2deg*phi]\n",
    "print(epi_rot_latlon)"
   ]
  },
  {
   "cell_type": "markdown",
   "metadata": {},
   "source": [
    "```SHELL\n",
    "echo '132.36 -2.96' | gmt mapproject -JY134/0/50\n",
    "00 -R109/159/-20/20 | awk '{print $1-500,$2-200}'\n",
    "1836 1453.64\n",
    "```"
=======
>>>>>>> 766b4565130d0d3deab99722fff93f4e30ef780f
   ]
  },
  {
   "cell_type": "markdown",
   "metadata": {},
   "source": [
    "## Coastline rotation"
   ]
  },
  {
   "cell_type": "code",
   "execution_count": null,
   "metadata": {},
   "outputs": [],
   "source": [
    "# 0. Load coastline lat lon\n",
    "with open('./Coastlines/coastlines.latlon','r') as fi:\n",
    "    lines = fi.readlines()\n",
    "\n",
    "# Open an output file.\n",
    "with open('./Coastlines/coastlines_rot.latlon','w') as fo:\n",
    "    for line in lines:\n",
    "        # 0. skip segment headers\n",
    "        if line.startswith('>'):\n",
    "            print(line.rstrip(), file=fo)\n",
    "            continue\n",
    "        slatlon = line.split()\n",
    "\n",
    "        # 1. Compute the x, y, z coordinates of the coastline segments\n",
    "        lon, lat = float(slatlon[0]), float(slatlon[1])\n",
    "        latlon = np.array([1.0, deg2rad*(90.0-lat), deg2rad*lon])\n",
    "        xyz    = np.array([0.0, 0.0, 0.0])\n",
    "        spherical_to_cartesian(latlon, xyz)\n",
    "\n",
    "        # 2. Define the rotation matrix. Reuse M1. Need not make it again.\n",
    "\n",
    "        # 3. Rotate the epicenter\n",
    "        rot_xyz = dot(M1,xyz)\n",
    "        #print xyz, rot_xyz\n",
    "\n",
    "        # 4. Convert the x, y, z to lon-lat\n",
    "        r, theta, phi = cartesian_to_spherical(rot_xyz)\n",
    "        rot_latlon = [90.0-rad2deg*theta, rad2deg*phi]\n",
    "        print(\"{0:g} {1:g}\".format(rot_latlon[1], rot_latlon[0]), file=fo)\n"
   ]
  },
  {
   "cell_type": "code",
   "execution_count": null,
   "metadata": {},
   "outputs": [],
   "source": []
  }
 ],
 "metadata": {
  "kernelspec": {
<<<<<<< HEAD
   "display_name": "Python 3",
=======
   "display_name": "Python 3 (ipykernel)",
>>>>>>> 766b4565130d0d3deab99722fff93f4e30ef780f
   "language": "python",
   "name": "python3"
  },
  "language_info": {
   "codemirror_mode": {
    "name": "ipython",
    "version": 3
   },
   "file_extension": ".py",
   "mimetype": "text/x-python",
   "name": "python",
   "nbconvert_exporter": "python",
   "pygments_lexer": "ipython3",
<<<<<<< HEAD
   "version": "3.10.12"
=======
   "version": "3.10.6"
>>>>>>> 766b4565130d0d3deab99722fff93f4e30ef780f
  }
 },
 "nbformat": 4,
 "nbformat_minor": 1
}
