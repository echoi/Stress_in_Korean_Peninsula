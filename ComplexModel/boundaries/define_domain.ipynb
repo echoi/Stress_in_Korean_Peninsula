{
 "cells": [
  {
   "cell_type": "code",
   "execution_count": null,
   "metadata": {},
   "outputs": [],
   "source": [
    "import numpy as np\n",
    "import matplotlib.pyplot as plt\n",
    "%matplotlib notebook"
   ]
  },
  {
   "cell_type": "code",
   "execution_count": null,
   "metadata": {},
   "outputs": [],
   "source": [
    "###############################################################################\n",
    "#                                                                             #\n",
    "# Copyright (C) 2010 Edward d'Auvergne                                        #\n",
    "#                                                                             #\n",
    "# This file is part of the program relax.                                     #\n",
    "#                                                                             #\n",
    "# relax is free software; you can redistribute it and/or modify               #\n",
    "# it under the terms of the GNU General Public License as published by        #\n",
    "# the Free Software Foundation; either version 2 of the License, or           #\n",
    "# (at your option) any later version.                                         #\n",
    "#                                                                             #\n",
    "# relax is distributed in the hope that it will be useful;                    #\n",
    "# but WITHOUT ANY WARRANTY; without even the implied warranty of              #\n",
    "# MERCHANTABILITY or FITNESS FOR A PARTICULAR PURPOSE.  See the               #\n",
    "# GNU General Public License for more details.                                #\n",
    "#                                                                             #\n",
    "# You should have received a copy of the GNU General Public License           #\n",
    "# along with relax; if not, write to the Free Software                        #\n",
    "# Foundation, Inc., 59 Temple Place, Suite 330, Boston, MA  02111-1307  USA   #\n",
    "#                                                                             #\n",
    "###############################################################################\n",
    "\n",
    "# Module docstring.\n",
    "\"\"\"Module for transforming between different coordinate systems.\"\"\"\n",
    "\n",
    "# Python module imports.\n",
    "from math import acos, atan2, cos, sin\n",
    "from numpy import array, float64, zeros\n",
    "from numpy.linalg import norm\n",
    "\n",
    "\n",
    "def cartesian_to_spherical(vector):\n",
    "    \"\"\"Convert the Cartesian vector [x, y, z] to spherical coordinates [r, theta, phi].\n",
    "\n",
    "    The parameter r is the radial distance, theta is the polar angle, and phi is the azimuth.\n",
    "\n",
    "\n",
    "    @param vector:  The Cartesian vector [x, y, z].\n",
    "    @type vector:   numpy rank-1, 3D array\n",
    "    @return:        The spherical coordinate vector [r, theta, phi].\n",
    "    @rtype:         numpy rank-1, 3D array\n",
    "    \"\"\"\n",
    "\n",
    "    # The radial distance.\n",
    "    r = norm(vector)\n",
    "\n",
    "    # Unit vector.\n",
    "    unit = vector / r\n",
    "\n",
    "    # The polar angle.\n",
    "    theta = acos(unit[2])\n",
    "\n",
    "    # The azimuth.\n",
    "    phi = atan2(unit[1], unit[0])\n",
    "\n",
    "    # Return the spherical coordinate vector.\n",
    "    return array([r, theta, phi], float64)\n",
    "\n",
    "\n",
    "def spherical_to_cartesian(spherical_vect, cart_vect):\n",
    "    \"\"\"Convert the spherical coordinate vector [r, theta, phi] to the Cartesian vector [x, y, z].\n",
    "\n",
    "    The parameter r is the radial distance, theta is the polar angle, and phi is the azimuth.\n",
    "\n",
    "\n",
    "    @param spherical_vect:  The spherical coordinate vector [r, theta, phi].\n",
    "    @type spherical_vect:   3D array or list\n",
    "    @param cart_vect:       The Cartesian vector [x, y, z].\n",
    "    @type cart_vect:        3D array or list\n",
    "    \"\"\"\n",
    "\n",
    "    # Trig alias.\n",
    "    sin_theta = sin(spherical_vect[1])\n",
    "\n",
    "    # The vector.\n",
    "    cart_vect[0] = spherical_vect[0] * cos(spherical_vect[2]) * sin_theta\n",
    "    cart_vect[1] = spherical_vect[0] * sin(spherical_vect[2]) * sin_theta\n",
    "    cart_vect[2] = spherical_vect[0] * cos(spherical_vect[1])"
   ]
  },
  {
   "cell_type": "markdown",
   "metadata": {},
   "source": [
    "# Define an equator-centerd domain"
   ]
  },
  {
   "cell_type": "code",
   "execution_count": null,
   "metadata": {},
   "outputs": [],
   "source": [
    "lat_min = -20.0\n",
    "lat_max = 20.0\n",
    "lon_min = 109.0\n",
    "lon_max = 159.0\n",
    "nlat = 41\n",
    "nlon = 51\n",
    "deg2rad = np.pi/180.0\n",
    "rad2deg = 1.0/deg2rad"
   ]
  },
  {
   "cell_type": "code",
   "execution_count": null,
   "metadata": {},
   "outputs": [],
   "source": [
    "lati = np.linspace(lat_min, lat_max, nlat)\n",
    "loni = np.linspace(lon_min, lon_max, nlon)"
   ]
  },
  {
   "cell_type": "code",
   "execution_count": null,
   "metadata": {},
   "outputs": [],
   "source": [
    "domain = np.zeros((nlon*nlat,3))\n",
    "for j in range(nlat):\n",
    "    for i in range(nlon):\n",
    "        n = i + nlon*j\n",
    "        spherical_vect = [1.0, deg2rad*(90.0-lati[j]), deg2rad*loni[i]]\n",
    "        spherical_to_cartesian(spherical_vect, domain[n,:])"
   ]
  },
  {
   "cell_type": "markdown",
   "metadata": {},
   "source": [
    "From http://stackoverflow.com/a/25709323,\n",
    "\n",
    "    let a be the unit vector along axis, i.e. a = axis/norm(axis)\n",
    "    and A = I × a be the skew-symmetric matrix associated to a, i.e. the cross product of the identity matrix with a\n",
    "    then M = exp(θ A) is the rotation matrix.\n",
    "    \n",
    "Example:\n",
    "```Python\n",
    "from numpy import cross, eye, dot\n",
    "from scipy.linalg import expm3, norm\n",
    "\n",
    "def M(axis, theta):\n",
    "    return expm3(cross(eye(3), axis/norm(axis)*theta))\n",
    "\n",
    "v, axis, theta = [3,5,0], [4,4,1], 1.2\n",
    "M0 = M(axis, theta)\n",
    "\n",
    "print(dot(M0,v))\n",
    "# [ 2.74911638  4.77180932  1.91629719]\n",
    "```"
   ]
  },
  {
   "cell_type": "code",
   "execution_count": null,
   "metadata": {},
   "outputs": [],
   "source": [
    "from numpy import cross, eye, dot\n",
    "from scipy.linalg import expm, norm\n",
    "\n",
    "def M(axis, theta):\n",
    "    return expm(theta*cross(eye(3),axis/norm(axis)))"
   ]
  },
  {
   "cell_type": "code",
   "execution_count": null,
   "metadata": {},
   "outputs": [],
   "source": [
    "# The rotation axis is pointing to longitude of (136-90) deg and latitude of 0 deg.\n",
    "# The dessired rotation is +36 deg around this axis.\n",
    "\n",
    "# 1. Compute the x, y, z coordinates of the rotation axis.\n",
    "axis_latlon = np.array([1.0, deg2rad*90.0, deg2rad*(0.5*(lon_max+lon_min)-90.0)])\n",
    "axis = np.array([0.0, 0.0, 0.0])\n",
    "spherical_to_cartesian(axis_latlon, axis)\n",
    "\n",
    "# 2. Define the rotation matrix\n",
    "theta = deg2rad*36.0\n",
    "M0 = M(axis, theta)\n",
    "\n",
    "# 3. Rotate the domain\n",
    "domain_rot = np.zeros((nlon*nlat,3))\n",
    "for j in range(nlat):\n",
    "    for i in range(nlon):\n",
    "        n = i + nlon*j\n",
    "        domain_rot[n,:] = dot(M0,domain[n,:])\n",
    "\n",
    "# 4. Convert the x, y, z to lon-lat\n",
    "domain_rot_latlon = np.zeros((nlon*nlat,2))\n",
    "for j in range(nlat):\n",
    "    for i in range(nlon):\n",
    "        n = i + nlon*j\n",
    "        r, theta, phi = cartesian_to_spherical(domain_rot[n,:])\n",
    "        # latitude\n",
    "        domain_rot_latlon[n,:] = [90.0-rad2deg*theta, rad2deg*phi]"
   ]
  },
  {
   "cell_type": "code",
   "execution_count": null,
   "metadata": {},
   "outputs": [],
   "source": [
    "with open('domain.latlon','w') as fo1:\n",
    "    with open('domain_rot.latlon','w') as fo2:\n",
    "        for j in range(nlat):\n",
    "            for i in range(nlon):\n",
    "                n = i + nlon*j\n",
    "                print(\"{0:g} {1:g}\".format(loni[i],lati[j]), file=fo1)\n",
    "                print(\"{0:g} {1:g}\".format(domain_rot_latlon[n,1], domain_rot_latlon[n,0]), file=fo2)\n"
   ]
  },
  {
   "cell_type": "markdown",
   "metadata": {
    "collapsed": true
   },
   "source": [
    "## Epicenter rotation"
   ]
  },
  {
   "cell_type": "code",
   "execution_count": null,
   "metadata": {},
   "outputs": [],
   "source": [
    "# 0. Epicenter of the 2011 Tohoku earthquake\n",
    "epi_lon = 142.86\n",
    "epi_lat = 38.103\n",
    "\n",
    "# 1. Compute the x, y, z coordinates of the epicenter\n",
    "epi_latlon = np.array([1.0, deg2rad*(90.0-epi_lat), deg2rad*epi_lon])\n",
    "epi_xyz    = np.array([0.0, 0.0, 0.0])\n",
    "spherical_to_cartesian(epi_latlon, epi_xyz)\n",
    "\n",
    "# 2. Define the rotation matrix\n",
    "theta = deg2rad*-36.0\n",
    "M1 = M(axis, theta)\n",
    "\n",
    "# 3. Rotate the epicenter\n",
    "epi_rot_xyz = dot(M1,epi_xyz)\n",
    "\n",
    "# 4. Convert the x, y, z to lon-lat\n",
    "r, theta, phi = cartesian_to_spherical(epi_rot_xyz)\n",
    "epi_rot_latlon = [90.0-rad2deg*theta, rad2deg*phi]\n",
    "print(epi_rot_latlon)"
   ]
  },
  {
   "cell_type": "markdown",
   "metadata": {},
   "source": [
    "## Coastline rotation"
   ]
  },
  {
   "cell_type": "code",
   "execution_count": null,
   "metadata": {},
   "outputs": [],
   "source": [
    "# 0. Load coastline lat lon\n",
    "with open('./Coastlines/coastlines.latlon','r') as fi:\n",
    "    lines = fi.readlines()\n",
    "\n",
    "# Open an output file.\n",
    "with open('./Coastlines/coastlines_rot.latlon','w') as fo:\n",
    "    for line in lines:\n",
    "        # 0. skip segment headers\n",
    "        if line.startswith('>'):\n",
    "            print(line.rstrip(), file=fo)\n",
    "            continue\n",
    "        slatlon = line.split()\n",
    "\n",
    "        # 1. Compute the x, y, z coordinates of the coastline segments\n",
    "        lon, lat = float(slatlon[0]), float(slatlon[1])\n",
    "        latlon = np.array([1.0, deg2rad*(90.0-lat), deg2rad*lon])\n",
    "        xyz    = np.array([0.0, 0.0, 0.0])\n",
    "        spherical_to_cartesian(latlon, xyz)\n",
    "\n",
    "        # 2. Define the rotation matrix. Reuse M1. Need not make it again.\n",
    "\n",
    "        # 3. Rotate the epicenter\n",
    "        rot_xyz = dot(M1,xyz)\n",
    "        #print xyz, rot_xyz\n",
    "\n",
    "        # 4. Convert the x, y, z to lon-lat\n",
    "        r, theta, phi = cartesian_to_spherical(rot_xyz)\n",
    "        rot_latlon = [90.0-rad2deg*theta, rad2deg*phi]\n",
    "        print(\"{0:g} {1:g}\".format(rot_latlon[1], rot_latlon[0]), file=fo)\n"
   ]
  },
  {
   "cell_type": "code",
   "execution_count": null,
   "metadata": {},
   "outputs": [],
   "source": []
  }
 ],
 "metadata": {
  "kernelspec": {
   "display_name": "Python 3 (ipykernel)",
   "language": "python",
   "name": "python3"
  },
  "language_info": {
   "codemirror_mode": {
    "name": "ipython",
    "version": 3
   },
   "file_extension": ".py",
   "mimetype": "text/x-python",
   "name": "python",
   "nbconvert_exporter": "python",
   "pygments_lexer": "ipython3",
   "version": "3.10.6"
  }
 },
 "nbformat": 4,
 "nbformat_minor": 1
}
