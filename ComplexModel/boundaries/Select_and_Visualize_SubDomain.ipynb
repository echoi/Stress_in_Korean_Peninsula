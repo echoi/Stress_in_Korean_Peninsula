{
 "cells": [
  {
   "cell_type": "code",
   "execution_count": null,
   "metadata": {},
   "outputs": [],
   "source": [
    "import numpy as np\n",
    "from scipy.interpolate import griddata\n",
    "import matplotlib.pyplot as plt\n",
    "from matplotlib.collections import LineCollection\n",
    "import cmocean\n",
    "%matplotlib notebook"
   ]
  },
  {
   "cell_type": "code",
   "execution_count": null,
   "metadata": {},
   "outputs": [],
   "source": [
    "# Increase or reduce the interpolation resolution with these numbers.\n",
    "nx = 101\n",
    "ny = 101"
   ]
  },
  {
   "cell_type": "code",
   "execution_count": null,
   "metadata": {},
   "outputs": [],
   "source": [
    "with open(\"./Coastlines/coastlines_rot.xyz\", 'r') as fi:\n",
    "    lines = fi.readlines()\n",
    "    segment_list = []\n",
    "    segment = []\n",
    "    for line in lines[1:-1]:\n",
    "#         print('line=',line.rstrip())\n",
    "        if line.startswith('>'):\n",
    "            segment_list.append( segment )\n",
    "#             print(segment, line_segments)\n",
    "            segment = []\n",
    "#             print(segment)\n",
    "            continue\n",
    "        sxy = line.split()\n",
    "        x, y = float(sxy[0]), float(sxy[1])\n",
    "#         print(sxy, x, y)\n",
    "        segment.append( [x,y] )\n",
    "#         print( 'segment=', segment )\n",
    "    segs = np.array( segment_list, dtype=object )\n",
    "#     print(line_arrays)"
   ]
  },
  {
   "cell_type": "code",
   "execution_count": null,
   "metadata": {},
   "outputs": [],
   "source": [
    "def interpolate_data(data):\n",
    "    x = data[:,0]-500.0\n",
    "    y = data[:,1]-200.0\n",
    "    z = data[:,2]\n",
    "    print(x.shape, y.shape, z.shape, np.vstack((x,y)).transpose().shape)\n",
    "    xi = np.linspace(0.0, 4000.0, nx)\n",
    "    yi = np.linspace(0.0, 3600.0, ny)\n",
    "    Xi, Yi = np.meshgrid(xi, yi)\n",
    "    zi = griddata( np.vstack((x,y)).transpose(), z, (Xi, Yi), method='linear')\n",
    "    \n",
    "    return xi, yi, zi\n"
   ]
  },
  {
   "cell_type": "code",
   "execution_count": null,
   "metadata": {},
   "outputs": [],
   "source": [
    "data = np.loadtxt(\"./Topo/Topo.xyz\")\n",
    "Txi, Tyi, Tzi = interpolate_data( data )\n",
    "# plotSurf( xi, yi, zi, \"Topography\", line_segments)\n",
    "\n",
    "with open(\"./Topo/Topo_rect.xyz\",\"w\") as fo:\n",
    "    for j in range(ny):\n",
    "        for i in range(nx):\n",
    "            # Save interface elevations in km \n",
    "            # so that all the coordinates can be scaled to meters \n",
    "            # consistently in Trelis.\n",
    "            print(\"{0:g} {1:g} {2:g}\".format(Txi[i], Tyi[j], Tzi[j,i]*1e-3), file=fo)"
   ]
  },
  {
   "cell_type": "code",
   "execution_count": null,
   "metadata": {},
   "outputs": [],
   "source": [
    "data = np.loadtxt(\"./Moho/Moho.xyz\")\n",
    "Mxi, Myi, Mzi = interpolate_data( data )\n",
    "# plotSurf( xi, yi, zi, \"Moho Depth\", line_segments )\n",
    "\n",
    "with open(\"./Moho/Moho_rect.xyz\",\"w\") as fo:\n",
    "    for j in range(ny):\n",
    "        for i in range(nx):\n",
    "            # Save interface elevations in km \n",
    "            # so that all the coordinates can be scaled to meters \n",
    "            # consistently in Trelis.\n",
    "            print(\"{0:g} {1:g} {2:g}\".format( Mxi[i], Myi[j], Mzi[j,i]*1e-3), file=fo)"
   ]
  },
  {
   "cell_type": "code",
   "execution_count": null,
   "metadata": {},
   "outputs": [],
   "source": [
    "data = np.loadtxt(\"./LAB/LAB.xyz\")\n",
    "Lxi, Lyi, Lzi = interpolate_data( data )\n",
    "# plotSurf( xi, yi, zi, \"LAB Depth\", line_segments )\n",
    "\n",
    "\n",
    "with open(\"./LAB/LAB_rect.xyz\",\"w\") as fo:\n",
    "    for j in range(ny):\n",
    "        for i in range(nx):\n",
    "            # Save interface elevations in km \n",
    "            # so that all the coordinates can be scaled to meters \n",
    "            # consistently in Trelis.\n",
    "            print(\"{0:g} {1:g} {2:g}\".format( Lxi[i], Lyi[j], Lzi[j,i]*1e-3), file=fo)"
   ]
  },
  {
   "cell_type": "code",
   "execution_count": null,
   "metadata": {},
   "outputs": [],
   "source": [
    "fig, ax = plt.subplots(2,2,figsize=(9,6))\n",
    "fig.tight_layout(pad=2)\n",
    "#     ax.contour(xi, yi, zi, cmap=\"inferno\")\n",
    "# Topo\n",
    "line_segments1 = LineCollection(segs, linewidths=2,\n",
    "                               colors='white', linestyle='solid')\n",
    "pcm = ax[0,0].pcolor(Txi, Tyi, Tzi*1e-3, cmap=cmocean.cm.topo, vmin=-8, vmax=8) #\"inferno\")\n",
    "fig.colorbar(pcm, ax=ax[0,0], label=\"Topography (km)\")\n",
    "# ax[0,0].add_collection(line_segments1)\n",
    "ax[0,0].set_aspect( 1 )\n",
    "# ax[0,0].set_title( \"Topography\" )\n",
    "ax[0,0].set_xlabel(\"x (km)\")\n",
    "ax[0,0].set_ylabel(\"y (km)\")\n",
    "\n",
    "# Moho\n",
    "line_segments2 = LineCollection(segs, linewidths=1,\n",
    "                               colors='white', linestyle='solid')\n",
    "pcm = ax[0,1].pcolor(Mxi, Myi, Mzi*1e-3, cmap=cmocean.cm.thermal, vmin=-60, vmax=0)\n",
    "fig.colorbar(pcm, ax=ax[0,1], label=\"Moho Depth (km)\")\n",
    "ax[0,1].add_collection(line_segments2)\n",
    "ax[0,1].set_aspect( 1 )\n",
    "# ax[0,1].set_title( \"Topography\" )\n",
    "ax[0,1].set_xlabel(\"x (km)\")\n",
    "ax[0,1].set_ylabel(\"y (km)\")\n",
    "\n",
    "# LAB\n",
    "line_segments3 = LineCollection(segs, linewidths=1,\n",
    "                               colors='white', linestyle='solid')\n",
    "pcm = ax[1,0].pcolor(Lxi, Lyi, Lzi*1e-3, cmap=cmocean.cm.solar, vmin=-300, vmax=0)\n",
    "fig.colorbar(pcm, ax=ax[1,0], label=\"LAB (km)\")\n",
    "ax[1,0].add_collection(line_segments3)\n",
    "ax[1,0].set_aspect( 1 )\n",
    "# ax[1,0].set_title( \"Topography\" )\n",
    "ax[1,0].set_xlabel(\"x (km)\")\n",
    "ax[1,0].set_ylabel(\"y (km)\")\n",
    "\n",
    "ax[1,1].axis('off')\n",
    "\n",
    "plt.savefig(\"boundaries.png\")"
   ]
  },
  {
   "cell_type": "code",
   "execution_count": null,
   "metadata": {},
   "outputs": [],
   "source": []
  }
 ],
 "metadata": {
  "kernelspec": {
   "display_name": "Python 3 (ipykernel)",
   "language": "python",
   "name": "python3"
  },
  "language_info": {
   "codemirror_mode": {
    "name": "ipython",
    "version": 3
   },
   "file_extension": ".py",
   "mimetype": "text/x-python",
   "name": "python",
   "nbconvert_exporter": "python",
   "pygments_lexer": "ipython3",
   "version": "3.10.6"
  }
 },
 "nbformat": 4,
 "nbformat_minor": 1
}
