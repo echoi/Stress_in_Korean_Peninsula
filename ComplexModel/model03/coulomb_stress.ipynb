{
 "cells": [
  {
   "cell_type": "code",
   "execution_count": 8,
   "metadata": {
    "collapsed": true
   },
   "outputs": [],
   "source": [
    "import numpy as np\n",
    "import matplotlib.pyplot as plt\n",
    "%matplotlib notebook"
   ]
  },
  {
   "cell_type": "markdown",
   "metadata": {},
   "source": [
    "\\begin{align}\n",
    "  \\sigma_{1} &= (\\lambda + 2\\mu) \\varepsilon_{1} + \\lambda \\varepsilon_{2} \\\\\n",
    "  \\sigma_{2} &= \\lambda \\varepsilon_{1} + (\\lambda+2\\mu) \\varepsilon_{2}\n",
    "\\end{align}"
   ]
  },
  {
   "cell_type": "code",
   "execution_count": 9,
   "metadata": {
    "collapsed": false
   },
   "outputs": [
    {
     "name": "stdout",
     "output_type": "stream",
     "text": [
      "3250.0 550.0\n"
     ]
    }
   ],
   "source": [
    "# Coseismic horizontal principal strains from Baek et al. (2012)\n",
    "e1 = 5e-8\n",
    "e2 = -1e-8\n",
    "# Elastic moduli\n",
    "lamb = 2.5e10\n",
    "mu = 2.25e10\n",
    "# Coseismic horizontal principal stresses\n",
    "s1 = (lamb+2.0*mu)*e1 + lamb*e2\n",
    "s2 = lamb*e1 + (lamb+2.0*mu)*e2\n",
    "print s1, s2"
   ]
  },
  {
   "cell_type": "markdown",
   "metadata": {},
   "source": [
    "# Geometric relationships"
   ]
  },
  {
   "cell_type": "code",
   "execution_count": 10,
   "metadata": {
    "collapsed": false
   },
   "outputs": [
    {
     "data": {
      "image/png": "[encoded data removed]",
      "text/plain": [
       "<IPython.core.display.Image object>"
      ]
     },
     "execution_count": 10,
     "metadata": {},
     "output_type": "execute_result"
    }
   ],
   "source": [
    "from IPython.display import Image\n",
    "from IPython.core.display import HTML \n",
    "Image(\"/Users/eunseo/projects/Stress_in_Korean_Peninsula_SeokGoo/ComplexModel/model03/coulomb_tress.png\")"
   ]
  },
  {
   "cell_type": "markdown",
   "metadata": {},
   "source": [
    "<img src='/Users/eunseo/projects/Stress_in_Korean_Peninsula_SeokGoo/ComplexModel/model03/coulomb_tress.png'>"
   ]
  },
  {
   "cell_type": "markdown",
   "metadata": {},
   "source": [
    "# Stress components in x$^{\\prime}$-y$^{\\prime}$ coordinate axes"
   ]
  },
  {
   "cell_type": "markdown",
   "metadata": {},
   "source": [
    "For the counter-clockwise rotation of $\\theta$,\n",
    "\n",
    "\\begin{align*}\n",
    "\\sigma_{x^{\\prime}x^{\\prime}} &= \\cos^{2} \\theta \\sigma_{xx} + 2\\sin \\theta \\cos \\theta \\sigma_{xy} + \\sin^{2} \\theta \\sigma_{yy} \\\\\n",
    "\\begin{align*}"
   ]
  },
  {
   "cell_type": "code",
   "execution_count": null,
   "metadata": {
    "collapsed": true
   },
   "outputs": [],
   "source": []
  }
 ],
 "metadata": {
  "kernelspec": {
   "display_name": "Python 2",
   "language": "python",
   "name": "python2"
  },
  "language_info": {
   "codemirror_mode": {
    "name": "ipython",
    "version": 2
   },
   "file_extension": ".py",
   "mimetype": "text/x-python",
   "name": "python",
   "nbconvert_exporter": "python",
   "pygments_lexer": "ipython2",
   "version": "2.7.10"
  }
 },
 "nbformat": 4,
 "nbformat_minor": 0
}
