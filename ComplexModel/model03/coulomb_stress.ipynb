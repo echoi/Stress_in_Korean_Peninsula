{
 "cells": [
  {
   "cell_type": "code",
   "execution_count": 26,
   "metadata": {
    "collapsed": false
   },
   "outputs": [],
   "source": [
    "import numpy as np\n",
    "import matplotlib.pyplot as plt\n",
    "%matplotlib notebook"
   ]
  },
  {
   "cell_type": "markdown",
   "metadata": {},
   "source": [
    "# Co-seismic stress changes and contribution to the right-lateral slip on the Yangsan Fault"
   ]
  },
  {
   "cell_type": "markdown",
   "metadata": {},
   "source": [
    "## Stress components in rotated coordinate axes"
   ]
  },
  {
   "cell_type": "markdown",
   "metadata": {},
   "source": [
    "For the counter-clockwise rotation of the $x$ and $y$ axes by an angle $\\theta$, stress components in the rotated coordinate system $x^{\\prime}$-$y^{\\prime}$ are given in term of the original stress components as\n",
    "\n",
    "\\begin{align*}\n",
    "\\sigma_{x^{\\prime}x^{\\prime}} &= \\sigma_{xx} \\cos^{2} \\theta  + 2 \\sigma_{xy} \\sin \\theta \\cos \\theta + \\sigma_{yy} \\sin^{2} \\theta \\\\\n",
    "\\sigma_{y^{\\prime}y^{\\prime}} &= \\sigma_{xx} \\sin^{2} \\theta  - 2 \\sigma_{xy} \\sin \\theta \\cos \\theta + \\sigma_{yy} \\cos^{2} \\theta \\\\\n",
    "\\sigma_{x^{\\prime}y^{\\prime}} &= \\frac{1}{2}(\\sigma_{yy} - \\sigma_{xx}) \\sin 2\\theta + \\sigma_{xy} \\cos 2\\theta\n",
    "\\end{align*}\n",
    "\n",
    "If we assume that the original $x$ and $y$ coordinate axes are aligned with the principal stresses, $\\sigma_{1}$ and $\\sigma_{3}$, respectively, and a fault plane is parallel to the $x^{\\prime}$ axis, we can compute the Coulomb stress on the fault plane by knowing the normal stress, $\\sigma_{y^{\\prime}y^{\\prime}}$, and the shear stress, $\\sigma_{x^{\\prime}y^{\\prime}}$.\n",
    "\n",
    "<img src=\"coulomb_stress_geometry.png\" width=\"480px\"/>\n"
   ]
  },
  {
   "cell_type": "code",
   "execution_count": 27,
   "metadata": {
    "collapsed": false
   },
   "outputs": [],
   "source": [
    "def get_rotated_stress(s1, s3, angle, mu=0.6):\n",
    "    ''' prints y'y' and x'y' components of stress as well as the Coulomb stress\n",
    "        when the given principal stresses s1 (most compressive), s3 (lest compressive)\n",
    "        and the rotation angle in degrees are given.\n",
    "        \n",
    "        Note that the friction coefficient, mu, is 0.6 by default \n",
    "        but can be set by a user.'''\n",
    "    th = angle * np.pi/180.0\n",
    "    s33 = s1*np.sin(th)**2 + s3*np.cos(th)**2\n",
    "    s13 = 0.5*(s3-s1)*np.sin(2.0*th)\n",
    "    Sc = s13 - mu * s33\n",
    "    print \"s_y'y' = \", s33, \" s_x'y' = \", s13, \" Coulomb stress = \", Sc"
   ]
  },
  {
   "cell_type": "markdown",
   "metadata": {},
   "source": [
    "## Principal stresses from the GPS principal strain"
   ]
  },
  {
   "cell_type": "markdown",
   "metadata": {},
   "source": [
    "### Geometric relationships"
   ]
  },
  {
   "cell_type": "markdown",
   "metadata": {},
   "source": [
    "\\begin{align}\n",
    "  \\sigma_{1} &= (\\lambda + 2\\mu) \\varepsilon_{1} + \\lambda \\varepsilon_{2} \\\\\n",
    "  \\sigma_{2} &= \\lambda \\varepsilon_{1} + (\\lambda+2\\mu) \\varepsilon_{2}\n",
    "\\end{align}"
   ]
  },
  {
   "cell_type": "code",
   "execution_count": 28,
   "metadata": {
    "collapsed": false
   },
   "outputs": [
    {
     "name": "stdout",
     "output_type": "stream",
     "text": [
      "550.0 3250.0\n"
     ]
    }
   ],
   "source": [
    "# Coseismic horizontal principal strains from Baek et al. (2012)\n",
    "e1 = -1e-8\n",
    "e2 = 5e-8\n",
    "# Elastic moduli\n",
    "lamb = 2.5e10\n",
    "mu = 2.25e10\n",
    "# Coseismic horizontal principal stresses\n",
    "s1 = (lamb+2.0*mu)*e1 + lamb*e2\n",
    "s2 = lamb*e1 + (lamb+2.0*mu)*e2\n",
    "print s1, s2"
   ]
  },
  {
   "cell_type": "markdown",
   "metadata": {},
   "source": [
    "The least compressive principal strain and stress ($\\sigma_{3}$) have the orientation of N70E. $\\sigma_{1}$ is 90 degrees apart from it as shown in the above figure. Following the conventions adopted in King et al. (BSSA, 1994), we set $x$ and $y$ coordinate axes to be parallel with $\\sigma_{1}$ and $\\sigma_{3}$, respectively. The Yangsan Fault (YSF) has a strike of N20E. Therefore, we need to compute $\\sigma_{y^{\\prime}y^{\\prime}}$ and $\\sigma_{x^{\\prime}y^{\\prime}}$ for a plane that is 140 degrees from the $x$ axis counterclockwise.\n",
    "\n",
    "<img src=\"coulomb_stress_GPS.png\" width=\"480px\"/>"
   ]
  },
  {
   "cell_type": "code",
   "execution_count": 29,
   "metadata": {
    "collapsed": false
   },
   "outputs": [
    {
     "name": "stdout",
     "output_type": "stream",
     "text": [
      "s_y'y' =  2134.42503985  s_x'y' =  -1329.49046657  Coulomb stress =  -2610.14549048\n"
     ]
    }
   ],
   "source": [
    "get_rotated_stress(s1,s2,140.0)"
   ]
  },
  {
   "cell_type": "markdown",
   "metadata": {},
   "source": [
    "The negative sign of $\\sigma_{x^{\\prime}y^{\\prime}}$ indicate that the shearing sense is left-lateral on the YSF. Also, the positive sing of $\\sigma_{y^{\\prime}y^{\\prime}}$ means tension acting normal on the YSF. The Coulomb failure criterion with zero coheion does not even apply to this case: The YSF will open up rather than slip.\n",
    "\n",
    "Based on the above considerations, we can conclude that the co-seismic stress changes does not contribute to the right-lateral slip on the YSF."
   ]
  },
  {
   "cell_type": "markdown",
   "metadata": {},
   "source": [
    "## From PyLith solution"
   ]
  },
  {
   "cell_type": "markdown",
   "metadata": {},
   "source": [
    "### Stress tensor from an element containing the hypocenter of the 2016 Kyungju earthquakes"
   ]
  },
  {
   "cell_type": "code",
   "execution_count": 30,
   "metadata": {
    "collapsed": false
   },
   "outputs": [
    {
     "name": "stdout",
     "output_type": "stream",
     "text": [
      "[[ 2066.89    1486.05     -39.4323]\n",
      " [ 1486.05    -562.291    -54.1379]\n",
      " [  -39.4323   -54.1379   -38.7095]]\n"
     ]
    }
   ],
   "source": [
    "stress_solution_tensor = np.array([[2066.89,1486.05,-39.4323],[1486.05,-562.291,-54.1379],[-39.4323,-54.1379,-38.7095]])\n",
    "print stress_solution_tensor"
   ]
  },
  {
   "cell_type": "markdown",
   "metadata": {},
   "source": [
    "### Compute principal stresses"
   ]
  },
  {
   "cell_type": "code",
   "execution_count": 31,
   "metadata": {
    "collapsed": false
   },
   "outputs": [
    {
     "name": "stdout",
     "output_type": "stream",
     "text": [
      "2737.57890667 [ 0.91147782  0.41081504 -0.02095688]\n",
      "-1232.6819778 [ 0.41021559 -0.91156523 -0.02778496]\n",
      "-39.0074288748 [ 0.03051804 -0.01672854  0.99939422]\n"
     ]
    }
   ],
   "source": [
    "# Compute\n",
    "w, v = np.linalg.eig(stress_solution_tensor)\n",
    "print w[0], v[:,0] # sigma_3\n",
    "print w[1], v[:,1] # sigma_1\n",
    "print w[2], v[:,2]"
   ]
  },
  {
   "cell_type": "code",
   "execution_count": 32,
   "metadata": {
    "collapsed": false
   },
   "outputs": [
    {
     "name": "stdout",
     "output_type": "stream",
     "text": [
      "-65.7716673566\n",
      "24.2617158925\n"
     ]
    }
   ],
   "source": [
    "# sigma_1 orientation\n",
    "print np.arctan2(-0.91156523, 0.41021559)*180.0/np.pi\n",
    "# sigma_3 orientation\n",
    "print np.arctan2(0.41081504, 0.91147782,)*180.0/np.pi"
   ]
  },
  {
   "cell_type": "markdown",
   "metadata": {},
   "source": [
    "$\\sigma_{1}$ has the value of $-1232.7$ Pa and is almost horionztal in the direction of N155.8$^{\\circ}$E. \n",
    "$\\sigma_{3}$ is also almost horizontal and is 2737.6 Pa in in the direction of N65.7$^{\\circ}$E.\n",
    "\n",
    "Then, the counterclockwise angle from $\\sigma_{1}$ to the YSF is 135.8$^{\\circ}$.\n",
    "\n",
    "<img src=\"coulomb_stress_PyLith.png\" width=\"480px\"/>"
   ]
  },
  {
   "cell_type": "code",
   "execution_count": 33,
   "metadata": {
    "collapsed": false
   },
   "outputs": [
    {
     "name": "stdout",
     "output_type": "stream",
     "text": [
      "s_y'y' =  807.876559465  s_x'y' =  -1984.35646973  Coulomb stress =  -2469.08240541\n"
     ]
    }
   ],
   "source": [
    "get_rotated_stress(w[1],w[0],135.8)"
   ]
  },
  {
   "cell_type": "markdown",
   "metadata": {
    "collapsed": true
   },
   "source": [
    "Again, the negative sign of $\\sigma_{x^{\\prime}y^{\\prime}}$ indicate that the shearing sense is left-lateral on the YSF. Also, the positive sing of $\\sigma_{y^{\\prime}y^{\\prime}}$ means tension acting normal on the YSF. \n",
    "\n",
    "Based on the above considerations, we can conclude that the co-seismic stress changes does not contribute to the right-lateral slip on the YSF."
   ]
  },
  {
   "cell_type": "code",
   "execution_count": 34,
   "metadata": {
    "collapsed": false
   },
   "outputs": [
    {
     "name": "stdout",
     "output_type": "stream",
     "text": [
      "theta =  0.0  deg:\n",
      "s_y'y' =  2737.57890667  s_x'y' =  0.0  Coulomb stress =  -1642.547344\n",
      "theta =  10.0  deg:\n",
      "s_y'y' =  2617.86089231  s_x'y' =  678.954598374  Coulomb stress =  -891.761937009\n",
      "theta =  20.0  deg:\n",
      "s_y'y' =  2273.14660858  s_x'y' =  1276.01725188  Coulomb stress =  -87.8707132661\n",
      "theta =  30.0  deg:\n",
      "s_y'y' =  1745.01368556  s_x'y' =  1719.1733928  Coulomb stress =  672.16518147\n",
      "theta =  40.0  deg:\n",
      "s_y'y' =  1097.16274816  s_x'y' =  1954.97185026  Coulomb stress =  1296.67420136\n",
      "theta =  50.0  deg:\n",
      "s_y'y' =  407.734180712  s_x'y' =  1954.97185026  Coulomb stress =  1710.33134183\n",
      "theta =  60.0  deg:\n",
      "s_y'y' =  -240.116756681  s_x'y' =  1719.1733928  Coulomb stress =  1863.24344681\n",
      "theta =  70.0  deg:\n",
      "s_y'y' =  -768.249679705  s_x'y' =  1276.01725188  Coulomb stress =  1736.9670597\n",
      "theta =  80.0  deg:\n",
      "s_y'y' =  -1112.96396343  s_x'y' =  678.954598374  Coulomb stress =  1346.73297643\n",
      "theta =  90.0  deg:\n",
      "s_y'y' =  -1232.6819778  s_x'y' =  2.43108364198e-13  Coulomb stress =  739.60918668\n",
      "theta =  100.0  deg:\n",
      "s_y'y' =  -1112.96396343  s_x'y' =  -678.954598374  Coulomb stress =  -11.1762203159\n",
      "theta =  110.0  deg:\n",
      "s_y'y' =  -768.249679705  s_x'y' =  -1276.01725188  Coulomb stress =  -815.067444059\n",
      "theta =  120.0  deg:\n",
      "s_y'y' =  -240.116756681  s_x'y' =  -1719.1733928  Coulomb stress =  -1575.10333879\n",
      "theta =  130.0  deg:\n",
      "s_y'y' =  407.734180712  s_x'y' =  -1954.97185026  Coulomb stress =  -2199.61235868\n",
      "theta =  140.0  deg:\n",
      "s_y'y' =  1097.16274816  s_x'y' =  -1954.97185026  Coulomb stress =  -2613.26949915\n",
      "theta =  150.0  deg:\n",
      "s_y'y' =  1745.01368556  s_x'y' =  -1719.1733928  Coulomb stress =  -2766.18160414\n",
      "theta =  160.0  deg:\n",
      "s_y'y' =  2273.14660858  s_x'y' =  -1276.01725188  Coulomb stress =  -2639.90521703\n",
      "theta =  170.0  deg:\n",
      "s_y'y' =  2617.86089231  s_x'y' =  -678.954598374  Coulomb stress =  -2249.67113376\n",
      "theta =  180.0  deg:\n",
      "s_y'y' =  2737.57890667  s_x'y' =  -4.86216728395e-13  Coulomb stress =  -1642.547344\n"
     ]
    }
   ],
   "source": [
    "theta_list = np.linspace(0.0, 180.0, 19)\n",
    "for theta in theta_list:\n",
    "    print \"theta = \", theta, \" deg:\"\n",
    "    get_rotated_stress(w[1],w[0],theta)"
   ]
  },
  {
   "cell_type": "markdown",
   "metadata": {},
   "source": [
    "Based on the above calculations, we can see that the co-seismic stress changes can promote right-lateral slip on a fault plane between ~30$^{\\circ}$ to ~80$^{\\circ}$ from $\\sigma_{1}$ (shaded range in the figure below). The orientation of the YSF is clearly not in this range.\n",
    "\n",
    "<img src=\"coulomb_stress_RLSS.png\" width=\"480px\"/>"
   ]
  }
 ],
 "metadata": {
  "kernelspec": {
   "display_name": "Python 2",
   "language": "python",
   "name": "python2"
  },
  "language_info": {
   "codemirror_mode": {
    "name": "ipython",
    "version": 2
   },
   "file_extension": ".py",
   "mimetype": "text/x-python",
   "name": "python",
   "nbconvert_exporter": "python",
   "pygments_lexer": "ipython2",
   "version": "2.7.10"
  }
 },
 "nbformat": 4,
 "nbformat_minor": 0
}
