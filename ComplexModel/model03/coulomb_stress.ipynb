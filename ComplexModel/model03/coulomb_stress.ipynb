{
 "cells": [
  {
   "cell_type": "code",
   "execution_count": 2,
   "metadata": {
    "collapsed": false
   },
   "outputs": [
    {
     "name": "stderr",
     "output_type": "stream",
     "text": [
      "/Users/eunseo/anaconda/lib/python2.7/site-packages/matplotlib/__init__.py:872: UserWarning: axes.color_cycle is deprecated and replaced with axes.prop_cycle; please use the latter.\n",
      "  warnings.warn(self.msg_depr % (key, alt_key))\n"
     ]
    }
   ],
   "source": [
    "import numpy as np\n",
    "import matplotlib.pyplot as plt\n",
    "%matplotlib notebook"
   ]
  },
  {
   "cell_type": "markdown",
   "metadata": {},
   "source": [
    "# Estimating co-seismic principal stresses"
   ]
  },
  {
   "cell_type": "markdown",
   "metadata": {},
   "source": [
    "\\begin{align}\n",
    "  \\sigma_{1} &= (\\lambda + 2\\mu) \\varepsilon_{1} + \\lambda \\varepsilon_{2} \\\\\n",
    "  \\sigma_{2} &= \\lambda \\varepsilon_{1} + (\\lambda+2\\mu) \\varepsilon_{2}\n",
    "\\end{align}"
   ]
  },
  {
   "cell_type": "code",
   "execution_count": 6,
   "metadata": {
    "collapsed": false
   },
   "outputs": [
    {
     "name": "stdout",
     "output_type": "stream",
     "text": [
      "550.0 3250.0\n"
     ]
    }
   ],
   "source": [
    "# Coseismic horizontal principal strains from Baek et al. (2012)\n",
    "e1 = -1e-8\n",
    "e2 = 5e-8\n",
    "# Elastic moduli\n",
    "lamb = 2.5e10\n",
    "mu = 2.25e10\n",
    "# Coseismic horizontal principal stresses\n",
    "s1 = (lamb+2.0*mu)*e1 + lamb*e2\n",
    "s2 = lamb*e1 + (lamb+2.0*mu)*e2\n",
    "print s1, s2"
   ]
  },
  {
   "cell_type": "markdown",
   "metadata": {},
   "source": [
    "# Geometric relationships"
   ]
  },
  {
   "cell_type": "markdown",
   "metadata": {
    "collapsed": false
   },
   "source": [
    "<img src=\"coulomb_stress.png\" width=\"480px\"/>"
   ]
  },
  {
   "cell_type": "markdown",
   "metadata": {},
   "source": [
    "# Stress components in x$^{\\prime}$-y$^{\\prime}$ coordinate axes"
   ]
  },
  {
   "cell_type": "markdown",
   "metadata": {},
   "source": [
    "For the counter-clockwise rotation of $\\theta$,\n",
    "\n",
    "\\begin{align*}\n",
    "\\sigma_{x^{\\prime}x^{\\prime}} &= \\sigma_{xx} \\cos^{2} \\theta  + 2 \\sigma_{xy} \\sin \\theta \\cos \\theta + \\sigma_{yy} \\sin^{2} \\theta \\\\\n",
    "\\sigma_{y^{\\prime}y^{\\prime}} &= \\sigma_{xx} \\sin^{2} \\theta  - 2 \\sigma_{xy} \\sin \\theta \\cos \\theta + \\sigma_{yy} \\cos^{2} \\theta \\\\\n",
    "\\sigma_{x^{\\prime}y^{\\prime}} &= \\frac{1}{2}(\\sigma_{yy} - \\sigma_{xx}) \\sin 2\\theta + \\sigma_{xy} \\cos 2\\theta\n",
    "\\end{align*}\n",
    "\n",
    "To compute the Coulomb stress, we need to know the normal stress, $\\sigma_{y^{\\prime}y^{\\prime}}$, and the shear stress, $\\sigma_{x^{\\prime}y^{\\prime}}$, on the fault.\n",
    "\n",
    "The least compressive principal strain and stress ($\\sigma_{3}$) have the orientation of N70E. $\\sigma_{1}$ is 90 degrees apart from it as shown in the above figure. Following the conventions adopted in King et al. (BSSA, 1994), we set $x$ and $y$ coordinate axes to be parallel with $\\sigma_{1}$ and $\\sigma_{3}$, respectively. The Yangsan Fault (YSF) has a strike of N20E. Therefore, we need to compute $\\sigma_{y^{\\prime}y^{\\prime}}$ and $\\sigma_{x^{\\prime}y^{\\prime}}$ for a plane that is 140 degrees from the $x$ axis counterclockwise."
   ]
  },
  {
   "cell_type": "code",
   "execution_count": 12,
   "metadata": {
    "collapsed": false
   },
   "outputs": [
    {
     "name": "stdout",
     "output_type": "stream",
     "text": [
      "s_y'y' =  2134.42503985  s_x'y' =  -1329.49046657  Coulomb stress =  -2610.14549048\n"
     ]
    }
   ],
   "source": [
    "th = 140 * np.pi/180.0\n",
    "mu = 0.6\n",
    "s33 = s1*np.sin(th)**2 + s2*np.cos(th)**2\n",
    "s13 = 0.5*(s2-s1)*np.sin(2.0*th)\n",
    "Sc = s13 - mu * s33\n",
    "print \"s_y'y' = \", s33, \" s_x'y' = \", s13, \" Coulomb stress = \", Sc"
   ]
  },
  {
   "cell_type": "markdown",
   "metadata": {},
   "source": [
    "The negative sign of $\\sigma_{x^{\\prime}y^{\\prime}}$ indicate that the shearing sense is left-lateral on the YSF. Also, the positive sing of $\\sigma_{y^{\\prime}y^{\\prime}}$ means tension acting normal on the YSF. The Coulomb failure criterion with zero coheion does not even apply to this case: The YSF will open up rather than slip.\n",
    "\n",
    "Based on the above considerations, we can conclude that the co-seismic stress changes does not contribute to the right-lateral slip on the YSF."
   ]
  },
  {
   "cell_type": "code",
   "execution_count": null,
   "metadata": {
    "collapsed": true
   },
   "outputs": [],
   "source": []
  }
 ],
 "metadata": {
  "kernelspec": {
   "display_name": "Python 2",
   "language": "python",
   "name": "python2"
  },
  "language_info": {
   "codemirror_mode": {
    "name": "ipython",
    "version": 2
   },
   "file_extension": ".py",
   "mimetype": "text/x-python",
   "name": "python",
   "nbconvert_exporter": "python",
   "pygments_lexer": "ipython2",
   "version": "2.7.11"
  }
 },
 "nbformat": 4,
 "nbformat_minor": 0
}
